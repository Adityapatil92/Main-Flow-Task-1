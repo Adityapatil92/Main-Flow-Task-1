{
 "cells": [
  {
   "cell_type": "code",
   "execution_count": 1,
   "id": "e006143d-09c7-4b2b-9a6f-7fde3bb88b81",
   "metadata": {},
   "outputs": [
    {
     "name": "stdout",
     "output_type": "stream",
     "text": [
      "List after adding element: [1, 2, 3, 4, 6]\n",
      "List after removing element: [1, 2, 3, 6]\n",
      "List after modifying element: [22, 2, 3, 6]\n",
      "Dictionary after adding element: {'a': 1, 'b': 2, 'c': 3, 'd': 4}\n",
      "Dictionary after removing element: {'b': 2, 'c': 3, 'd': 4}\n",
      "Dictionary after modifying element: {'b': 200, 'c': 3, 'd': 4}\n",
      "Set after adding element: {1, 2, 3, 4, 5}\n",
      "Set after removing element: {1, 2, 3, 5}\n"
     ]
    }
   ],
   "source": [
    "#creating list\n",
    "my_list=[1,2,3,4]\n",
    "\n",
    "#adding element to the list\n",
    "my_list.append(6)\n",
    "print(\"List after adding element:\", my_list)\n",
    "\n",
    "# Removing element from the list\n",
    "my_list.remove(4)\n",
    "print(\"List after removing element:\", my_list)\n",
    "\n",
    "#modifying an element in list\n",
    "my_list[0]=22\n",
    "print(\"List after modifying element:\", my_list)\n",
    "\n",
    "#creating a dictionary\n",
    "my_dict={'a':1,'b':2,'c':3}\n",
    "\n",
    "#adding key value pair to dictionary\n",
    "my_dict['d']=4\n",
    "print(\"Dictionary after adding element:\", my_dict)\n",
    "\n",
    "#removing key value pair from dictionary\n",
    "del my_dict['a']\n",
    "print(\"Dictionary after removing element:\", my_dict)\n",
    "\n",
    "#modifying a value in dictionary\n",
    "my_dict['b']=200\n",
    "print(\"Dictionary after modifying element:\", my_dict)\n",
    "\n",
    "#creating a set\n",
    "my_set={1,2,3,4}\n",
    "\n",
    "#adding element to list\n",
    "my_set.add(5)\n",
    "print(\"Set after adding element:\", my_set)\n",
    "\n",
    "#removing element from set\n",
    "my_set.remove(4)\n",
    "print(\"Set after removing element:\", my_set)\n"
   ]
  },
  {
   "cell_type": "code",
   "execution_count": null,
   "id": "82070de4-e850-404e-a97c-a1ce673614c6",
   "metadata": {},
   "outputs": [],
   "source": []
  }
 ],
 "metadata": {
  "kernelspec": {
   "display_name": "Python 3 (ipykernel)",
   "language": "python",
   "name": "python3"
  },
  "language_info": {
   "codemirror_mode": {
    "name": "ipython",
    "version": 3
   },
   "file_extension": ".py",
   "mimetype": "text/x-python",
   "name": "python",
   "nbconvert_exporter": "python",
   "pygments_lexer": "ipython3",
   "version": "3.12.4"
  }
 },
 "nbformat": 4,
 "nbformat_minor": 5
}
